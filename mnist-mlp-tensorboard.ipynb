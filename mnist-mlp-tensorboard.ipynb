{
 "cells": [
  {
   "cell_type": "markdown",
   "metadata": {},
   "source": [
    "# MLP in Tensorflow\n",
    "This book will contain an implementation of MLP in tensorflow to classify handwritten digits from mnist dataset."
   ]
  },
  {
   "cell_type": "code",
   "execution_count": 1,
   "metadata": {},
   "outputs": [
    {
     "name": "stderr",
     "output_type": "stream",
     "text": [
      "/home/kirito/anaconda3/envs/tensorflow-env/lib/python3.6/site-packages/h5py/__init__.py:36: FutureWarning: Conversion of the second argument of issubdtype from `float` to `np.floating` is deprecated. In future, it will be treated as `np.float64 == np.dtype(float).type`.\n",
      "  from ._conv import register_converters as _register_converters\n"
     ]
    }
   ],
   "source": [
    "import tensorflow as tf\n",
    "import numpy as np\n",
    "import matplotlib.pyplot as plt"
   ]
  },
  {
   "cell_type": "markdown",
   "metadata": {},
   "source": [
    "### Fetching MNIST "
   ]
  },
  {
   "cell_type": "code",
   "execution_count": 2,
   "metadata": {},
   "outputs": [
    {
     "name": "stdout",
     "output_type": "stream",
     "text": [
      "WARNING:tensorflow:From <ipython-input-2-8bf8ae5a5303>:2: read_data_sets (from tensorflow.contrib.learn.python.learn.datasets.mnist) is deprecated and will be removed in a future version.\n",
      "Instructions for updating:\n",
      "Please use alternatives such as official/mnist/dataset.py from tensorflow/models.\n",
      "WARNING:tensorflow:From /home/kirito/anaconda3/envs/tensorflow-env/lib/python3.6/site-packages/tensorflow/contrib/learn/python/learn/datasets/mnist.py:260: maybe_download (from tensorflow.contrib.learn.python.learn.datasets.base) is deprecated and will be removed in a future version.\n",
      "Instructions for updating:\n",
      "Please write your own downloading logic.\n",
      "WARNING:tensorflow:From /home/kirito/anaconda3/envs/tensorflow-env/lib/python3.6/site-packages/tensorflow/contrib/learn/python/learn/datasets/mnist.py:262: extract_images (from tensorflow.contrib.learn.python.learn.datasets.mnist) is deprecated and will be removed in a future version.\n",
      "Instructions for updating:\n",
      "Please use tf.data to implement this functionality.\n",
      "Extracting MNIST_data/train-images-idx3-ubyte.gz\n",
      "WARNING:tensorflow:From /home/kirito/anaconda3/envs/tensorflow-env/lib/python3.6/site-packages/tensorflow/contrib/learn/python/learn/datasets/mnist.py:267: extract_labels (from tensorflow.contrib.learn.python.learn.datasets.mnist) is deprecated and will be removed in a future version.\n",
      "Instructions for updating:\n",
      "Please use tf.data to implement this functionality.\n",
      "Extracting MNIST_data/train-labels-idx1-ubyte.gz\n",
      "WARNING:tensorflow:From /home/kirito/anaconda3/envs/tensorflow-env/lib/python3.6/site-packages/tensorflow/contrib/learn/python/learn/datasets/mnist.py:110: dense_to_one_hot (from tensorflow.contrib.learn.python.learn.datasets.mnist) is deprecated and will be removed in a future version.\n",
      "Instructions for updating:\n",
      "Please use tf.one_hot on tensors.\n",
      "Extracting MNIST_data/t10k-images-idx3-ubyte.gz\n",
      "Extracting MNIST_data/t10k-labels-idx1-ubyte.gz\n",
      "WARNING:tensorflow:From /home/kirito/anaconda3/envs/tensorflow-env/lib/python3.6/site-packages/tensorflow/contrib/learn/python/learn/datasets/mnist.py:290: DataSet.__init__ (from tensorflow.contrib.learn.python.learn.datasets.mnist) is deprecated and will be removed in a future version.\n",
      "Instructions for updating:\n",
      "Please use alternatives such as official/mnist/dataset.py from tensorflow/models.\n"
     ]
    }
   ],
   "source": [
    "from tensorflow.examples.tutorials.mnist import input_data\n",
    "mnist = input_data.read_data_sets(\"MNIST_data/\", one_hot=True)"
   ]
  },
  {
   "cell_type": "markdown",
   "metadata": {},
   "source": [
    "### Displaying samples from MNIST "
   ]
  },
  {
   "cell_type": "code",
   "execution_count": 3,
   "metadata": {},
   "outputs": [
    {
     "data": {
      "image/png": "[encoded data removed]",
      "text/plain": [
       "<Figure size 432x288 with 5 Axes>"
      ]
     },
     "metadata": {},
     "output_type": "display_data"
    }
   ],
   "source": [
    "for index, image in enumerate(mnist.train.images[0:5]):\n",
    "    plt.subplot(1,5,index+1)\n",
    "    plt.imshow(image.reshape((28, 28)), cmap='gray')\n",
    "    plt.draw()"
   ]
  },
  {
   "cell_type": "markdown",
   "metadata": {},
   "source": [
    "### Sizes of Input, Output and Hidden Layers "
   ]
  },
  {
   "cell_type": "code",
   "execution_count": 4,
   "metadata": {},
   "outputs": [],
   "source": [
    "n_inputs = 784\n",
    "n_outputs = 10\n",
    "n_hidden_1 = 256\n",
    "n_hidden_2 = 256"
   ]
  },
  {
   "cell_type": "markdown",
   "metadata": {},
   "source": [
    "### Input and Output Placeholders "
   ]
  },
  {
   "cell_type": "code",
   "execution_count": 5,
   "metadata": {},
   "outputs": [],
   "source": [
    "batch_x = tf.placeholder(dtype=tf.float32, shape=[None, n_inputs], name=\"Batch_X\")\n",
    "batch_y = tf.placeholder(dtype=tf.float32, shape=[None, n_outputs], name=\"Batch_Y\")"
   ]
  },
  {
   "cell_type": "markdown",
   "metadata": {},
   "source": [
    "### Weights and Biases  "
   ]
  },
  {
   "cell_type": "code",
   "execution_count": 6,
   "metadata": {},
   "outputs": [],
   "source": [
    "Wh1i = tf.Variable(tf.random_normal((n_inputs, n_hidden_1)), dtype=tf.float32, name=\"Wh1\")\n",
    "bh1 = tf.Variable(tf.random_normal((1, n_hidden_1)), dtype=tf.float32, name=\"Bh1\")\n",
    "\n",
    "Wh2h1 = tf.Variable(tf.random_normal((n_hidden_1, n_hidden_2)), dtype=tf.float32, name=\"Wh2\")\n",
    "bh2 = tf.Variable(tf.random_normal((1, n_hidden_2)), dtype=tf.float32, name=\"Bh2\")\n",
    "\n",
    "Woh2 = tf.Variable(tf.random_normal((n_hidden_2, n_outputs)), dtype=tf.float32, name=\"Wo\")\n",
    "bo = tf.Variable(tf.random_normal((1, n_outputs)), name=\"Bo\")"
   ]
  },
  {
   "cell_type": "markdown",
   "metadata": {},
   "source": [
    "### Tensor Operations\n",
    "We are using ReLU as activation function and softmax at the final layer to get max probability."
   ]
  },
  {
   "cell_type": "code",
   "execution_count": 7,
   "metadata": {},
   "outputs": [],
   "source": [
    "with tf.name_scope(\"Layer_1\"):\n",
    "    zh1 = tf.add(tf.matmul(batch_x, Wh1i), bh1)\n",
    "    # ah1 = tf.nn.tanh(zh1)\n",
    "    # ah1 = tf.nn.relu(zh1)\n",
    "    # ah1 = tf.nn.sigmoid(zh1)\n",
    "    ah1 = zh1\n",
    "\n",
    "with tf.name_scope(\"Layer_2\"):\n",
    "    zh2 = tf.add(tf.matmul(ah1, Wh2h1), bh2)\n",
    "    # ah2 = tf.nn.tanh(zh2)\n",
    "    # ah2 = tf.nn.relu(zh2)\n",
    "    # ah2 = tf.nn.sigmoid(zh2)\n",
    "    ah2 = zh2\n",
    "\n",
    "with tf.name_scope(\"Layer_Output\"):\n",
    "    zo = tf.add(tf.matmul(ah2, Woh2), bo)\n",
    "    # ao = tf.nn.tanh(zo)\n",
    "    # ao = tf.nn.relu(zo)\n",
    "    # ao = tf.nn.sigmoid(zo)\n",
    "    ao = zo"
   ]
  },
  {
   "cell_type": "code",
   "execution_count": 8,
   "metadata": {},
   "outputs": [],
   "source": [
    "logits = ao\n",
    "prediction = tf.nn.softmax(ao)"
   ]
  },
  {
   "cell_type": "code",
   "execution_count": 10,
   "metadata": {},
   "outputs": [],
   "source": [
    "with tf.name_scope(\"Loss\"):\n",
    "    loss_op = tf.reduce_mean(tf.nn.softmax_cross_entropy_with_logits_v2(logits=logits, labels=batch_y))\n",
    "    tf.summary.scalar('Loss', loss_op)\n",
    "with tf.name_scope(\"Train\"):\n",
    "    train_op = tf.train.GradientDescentOptimizer(0.001).minimize(loss_op)"
   ]
  },
  {
   "cell_type": "markdown",
   "metadata": {},
   "source": [
    "### Number of training_steps "
   ]
  },
  {
   "cell_type": "code",
   "execution_count": 11,
   "metadata": {},
   "outputs": [],
   "source": [
    "training_epochs = 15\n",
    "display_step = 10\n",
    "batch_size = 100"
   ]
  },
  {
   "cell_type": "markdown",
   "metadata": {},
   "source": [
    "### Initialize variables "
   ]
  },
  {
   "cell_type": "code",
   "execution_count": 12,
   "metadata": {},
   "outputs": [],
   "source": [
    "init = tf.global_variables_initializer()\n",
    "saver = tf.train.Saver()\n",
    "writer = tf.summary.FileWriter(\"/tmp/mnist_demo/1\")"
   ]
  },
  {
   "cell_type": "code",
   "execution_count": 22,
   "metadata": {},
   "outputs": [
    {
     "name": "stdout",
     "output_type": "stream",
     "text": [
      "Epoch: 0001 cost=229.947110152\n",
      "Epoch: 0011 cost=28.390103851\n",
      "Optimization Finished!\n",
      "Accuracy: 0.8826\n"
     ]
    }
   ],
   "source": [
    "with tf.Session() as sess:\n",
    "    # tensorboard settings\n",
    "    merged_summary = tf.summary.merge_all()\n",
    "    writer.add_graph(sess.graph)\n",
    "    \n",
    "    sess.run(init)\n",
    "    \n",
    "    # Training cycle\n",
    "    for epoch in range(training_epochs):\n",
    "        avg_cost = 0.\n",
    "        total_batch = int(mnist.train.num_examples/batch_size)\n",
    "        # Loop over all batches\n",
    "        for i in range(total_batch):\n",
    "            x, y = mnist.train.next_batch(batch_size)\n",
    "            # Run optimization op (backprop) and cost op (to get loss value)\n",
    "            s, _, c = sess.run([merged_summary, train_op, loss_op], feed_dict={batch_x: x, \n",
    "                                                         batch_y: y})\n",
    "            writer.add_summary(s, i)\n",
    "            # Compute average loss\n",
    "            avg_cost += c / total_batch\n",
    "        # Display logs per epoch step\n",
    "        if epoch % display_step == 0:\n",
    "            print(\"Epoch:\", '%04d' % (epoch+1), \"cost={:.9f}\".format(avg_cost))\n",
    "    print(\"Optimization Finished!\")\n",
    "\n",
    "    # Test model\n",
    "#     pred = tf.nn.softmax(logits)  # Apply softmax to logits\n",
    "    with tf.name_scope(\"Test_accuracy\"):\n",
    "        correct_prediction = tf.equal(tf.argmax(prediction, 1), tf.argmax(batch_y, 1))\n",
    "        # Calculate accuracy\n",
    "        accuracy = tf.reduce_mean(tf.cast(correct_prediction, \"float\"))\n",
    "        tf.summary.scalar('Accuracy', accuracy)\n",
    "    print(\"Accuracy:\", accuracy.eval({batch_x: mnist.test.images, batch_y: mnist.test.labels}))\n",
    "    \n",
    "    # save the trained model\n",
    "    save_path = saver.save(sess, \"/tmp/model-mnist.ckpt\")"
   ]
  },
  {
   "cell_type": "markdown",
   "metadata": {},
   "source": [
    "### Run predictions "
   ]
  },
  {
   "cell_type": "code",
   "execution_count": 18,
   "metadata": {},
   "outputs": [],
   "source": [
    "import random"
   ]
  },
  {
   "cell_type": "code",
   "execution_count": 19,
   "metadata": {},
   "outputs": [
    {
     "name": "stdout",
     "output_type": "stream",
     "text": [
      "5,6,7,8,9,6,9,7,0,"
     ]
    },
    {
     "data": {
      "image/png": "[encoded data removed]",
      "text/plain": [
       "<Figure size 432x288 with 9 Axes>"
      ]
     },
     "metadata": {},
     "output_type": "display_data"
    }
   ],
   "source": [
    "n_images = 10\n",
    "start = random.randint(0, mnist.test.num_examples - n_images)\n",
    "test_images = mnist.test.images[start:start + n_images - 1]\n",
    "test_labels = mnist.test.labels[start:start + n_images - 1]\n",
    "for idx, image in enumerate(test_images):\n",
    "    image = np.reshape(image, (28, 28))\n",
    "    print(np.argmax(test_labels[idx]), end=',')\n",
    "    plt.subplot(1,n_images,idx+1)\n",
    "    plt.imshow(image, cmap='gray')\n",
    "    plt.draw()"
   ]
  },
  {
   "cell_type": "code",
   "execution_count": 20,
   "metadata": {},
   "outputs": [
    {
     "name": "stdout",
     "output_type": "stream",
     "text": [
      "INFO:tensorflow:Restoring parameters from /tmp/model-mnist.ckpt\n",
      "Predicted: [5 6 7 8 9 6 9 7 0] Actual: [5 6 7 8 9 6 9 7 0]\n"
     ]
    }
   ],
   "source": [
    "with tf.Session() as sess:\n",
    "    saver.restore(sess, \"/tmp/model-mnist.ckpt\")\n",
    "    _logits = sess.run(logits, feed_dict={batch_x: test_images})\n",
    "    _pred = tf.nn.softmax(_logits)\n",
    "    predicted_number = tf.argmax(_pred, 1)\n",
    "    _predicted_number = predicted_number.eval(feed_dict={batch_x: test_images})\n",
    "    _actual_number = np.argmax(test_labels, 1)\n",
    "    print('Predicted:',_predicted_number,'Actual:',_actual_number)"
   ]
  }
 ],
 "metadata": {
  "kernelspec": {
   "display_name": "Python 3",
   "language": "python",
   "name": "python3"
  },
  "language_info": {
   "codemirror_mode": {
    "name": "ipython",
    "version": 3
   },
   "file_extension": ".py",
   "mimetype": "text/x-python",
   "name": "python",
   "nbconvert_exporter": "python",
   "pygments_lexer": "ipython3",
   "version": "3.6.2"
  }
 },
 "nbformat": 4,
 "nbformat_minor": 2
}
